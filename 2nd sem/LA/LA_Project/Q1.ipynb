{
 "cells": [
  {
   "attachments": {},
   "cell_type": "markdown",
   "metadata": {},
   "source": [
    "## Submission :\n",
    "* Make sure that the notebook runs without errors when cells are run in sequence.\n",
    "* Write your name and roll number in the cell below.\n",
    "* Rename the notebook to `<RollNumber>_Q1.ipynb` before submission."
   ]
  },
  {
   "attachments": {},
   "cell_type": "markdown",
   "metadata": {},
   "source": [
    "Name: Sanchit Jalan \n",
    "\n",
    "Roll Number: 2022101070"
   ]
  },
  {
   "attachments": {},
   "cell_type": "markdown",
   "metadata": {},
   "source": [
    "# Linear Regression\n",
    "\n",
    "Linear regression is a statistical technique used to model the relationship between a dependent variable (y) and one or more independent variables (x). In its simplest form, linear regression is a linear approximation of the relationship between y and x. \n",
    "\n",
    "$$ y=f(x)$$\n",
    "$$ y= \\beta_0 + \\beta_1 x_1 + \\beta_2 x_2 + ... + \\beta_n x_n$$\n",
    "\n",
    "where $\\beta_0$ is the intercept, $\\beta_1$ is the coefficient of $x_1$, $\\beta_2$ is the coefficient of $x_2$ and so on. The values $\\beta_0, \\beta_1, \\beta_2, ... \\beta_n$ are called the parameters of the model.\n",
    "\n",
    "\n"
   ]
  },
  {
   "attachments": {},
   "cell_type": "markdown",
   "metadata": {},
   "source": [
    "Now, for multiple data points, the linear equation can be written as:\n",
    "\n",
    "$$ y_i= \\beta_0 + \\beta_1 x_{i1} + \\beta_2 x_{i2} + ... + \\beta_n x_{in}$$\n",
    "\n",
    "where $i$ is the $i^{th}$ data point.\n",
    "\n",
    "The above equation can be written in matrix form as:\n",
    "\n",
    "$$ Y= X \\beta$$\n",
    "\n",
    "where $Y$ is the vector of dependent variable, $X$ is the matrix of independent variables and $\\beta$ is the vector of parameters.\n",
    "\n",
    "Since there are usually more number of equations than the number of unknowns, the system of linear equations is overdetermined. Thus, all solutions will have some error as there is no line that passes through all the points. \n",
    "\n",
    "The goal of linear regression is to find the parameters $\\beta$ such that the error is minimum. The error is measured as the sum of squared errors between the actual and predicted values. This method is called the least squares method.\n",
    "\n",
    "$$ E= \\sum_{i=1}^{n} (y_i - \\hat{y_i})^2$$\n",
    "\n",
    "where $y_i$ is the actual value and $\\hat{y_i}$ is the predicted value.\n",
    "\n",
    "\n",
    "Here is an example of linear regression with one independent variable:\n"
   ]
  },
  {
   "cell_type": "code",
   "execution_count": 78,
   "metadata": {},
   "outputs": [
    {
     "data": {
      "image/png": "[encoded data removed]",
      "text/plain": [
       "<Figure size 640x480 with 1 Axes>"
      ]
     },
     "metadata": {},
     "output_type": "display_data"
    }
   ],
   "source": [
    "# Linear regression with one variable\n",
    "\n",
    "import numpy as np\n",
    "import matplotlib.pyplot as plt\n",
    "\n",
    "data =np.random.rand(100,2)\n",
    "data[:,1] = data[:,0]*10 + 1 + np.random.randn(100)\n",
    "X = data[:,0]\n",
    "y = data[:,1]\n",
    "import sklearn.linear_model as lm\n",
    "model = lm.LinearRegression()\n",
    "model.fit(X.reshape(-1,1),y.reshape(-1,1))\n",
    "\n",
    "plt.scatter(X,y)\n",
    "plt.plot(X,model.predict(X.reshape(-1,1)),color='red')\n",
    "plt.xlabel('X')\n",
    "plt.ylabel('y')\n",
    "plt.title('Linear regression with one variable')\n",
    "plt.show()"
   ]
  },
  {
   "attachments": {},
   "cell_type": "markdown",
   "metadata": {},
   "source": [
    "The solutions to the previous least squares problem are given by the nxn matrix equation, also known as the normal equation:\n",
    "\n",
    "$$ (X^T X) \\beta = X^T Y$$\n",
    "\n",
    "where $X^T$ is the transpose of $X$.\n",
    "\n",
    "(Note that $(X^T X)^{-1} X^T$ is called the Moore-Penrose pseudo-inverse of $X$)"
   ]
  },
  {
   "attachments": {},
   "cell_type": "markdown",
   "metadata": {},
   "source": [
    "For the first 3 questions, you can either write the solutions using LaTeX in markdown cell or submit the solutions separately labeled as solutions.pdf"
   ]
  },
  {
   "attachments": {},
   "cell_type": "markdown",
   "metadata": {},
   "source": [
    "### Q1. Prove that $X^T X$ is invertible if and only if the columns of $X$ are linearly independent. \n",
    "\n",
    "### Q2. Find the solution for $\\beta$ if the matrix $X$ is decomposed as $X=QR$ using QR decomposition, where $Q$ is an orthogonal matrix and $R$ is an upper triangular matrix.\n",
    "\n",
    "### Q3. Find the solution for $\\beta$ if the matrix $X$ is decomposed as $X=UDV^T$ using Singular Value Decomposition, where $U$ and $V$ are orthogonal matrices and $D$ is a diagonal matrix."
   ]
  },
  {
   "attachments": {},
   "cell_type": "markdown",
   "metadata": {},
   "source": [
    "You will need to install the following packages:\n",
    "* numpy\n",
    "* matplotlib\n",
    "* pandas\n",
    "* sklearn"
   ]
  },
  {
   "attachments": {},
   "cell_type": "markdown",
   "metadata": {},
   "source": [
    "We will be using the Iris dataset for this exercise. The dataset can be fetched from the sklearn library. The dataset contains 150 data points with 4 features. More information about the dataset can be found here: https://en.wikipedia.org/wiki/Iris_flower_data_set"
   ]
  },
  {
   "cell_type": "code",
   "execution_count": 79,
   "metadata": {},
   "outputs": [
    {
     "name": "stdout",
     "output_type": "stream",
     "text": [
      ".. _iris_dataset:\n",
      "\n",
      "Iris plants dataset\n",
      "--------------------\n",
      "\n",
      "**Data Set Characteristics:**\n",
      "\n",
      "    :Number of Instances: 150 (50 in each of three classes)\n",
      "    :Number of Attributes: 4 numeric, predictive attributes and the class\n",
      "    :Attribute Information:\n",
      "        - sepal length in cm\n",
      "        - sepal width in cm\n",
      "        - petal length in cm\n",
      "        - petal width in cm\n",
      "        - class:\n",
      "                - Iris-Setosa\n",
      "                - Iris-Versicolour\n",
      "                - Iris-Virginica\n",
      "                \n",
      "    :Summary Statistics:\n",
      "\n",
      "    ============== ==== ==== ======= ===== ====================\n",
      "                    Min  Max   Mean    SD   Class Correlation\n",
      "    ============== ==== ==== ======= ===== ====================\n",
      "    sepal length:   4.3  7.9   5.84   0.83    0.7826\n",
      "    sepal width:    2.0  4.4   3.05   0.43   -0.4194\n",
      "    petal length:   1.0  6.9   3.76   1.76    0.9490  (high!)\n",
      "    petal width:    0.1  2.5   1.20   0.76    0.9565  (high!)\n",
      "    ============== ==== ==== ======= ===== ====================\n",
      "\n",
      "    :Missing Attribute Values: None\n",
      "    :Class Distribution: 33.3% for each of 3 classes.\n",
      "    :Creator: R.A. Fisher\n",
      "    :Donor: Michael Marshall (MARSHALL%PLU@io.arc.nasa.gov)\n",
      "    :Date: July, 1988\n",
      "\n",
      "The famous Iris database, first used by Sir R.A. Fisher. The dataset is taken\n",
      "from Fisher's paper. Note that it's the same as in R, but not as in the UCI\n",
      "Machine Learning Repository, which has two wrong data points.\n",
      "\n",
      "This is perhaps the best known database to be found in the\n",
      "pattern recognition literature.  Fisher's paper is a classic in the field and\n",
      "is referenced frequently to this day.  (See Duda & Hart, for example.)  The\n",
      "data set contains 3 classes of 50 instances each, where each class refers to a\n",
      "type of iris plant.  One class is linearly separable from the other 2; the\n",
      "latter are NOT linearly separable from each other.\n",
      "\n",
      ".. topic:: References\n",
      "\n",
      "   - Fisher, R.A. \"The use of multiple measurements in taxonomic problems\"\n",
      "     Annual Eugenics, 7, Part II, 179-188 (1936); also in \"Contributions to\n",
      "     Mathematical Statistics\" (John Wiley, NY, 1950).\n",
      "   - Duda, R.O., & Hart, P.E. (1973) Pattern Classification and Scene Analysis.\n",
      "     (Q327.D83) John Wiley & Sons.  ISBN 0-471-22361-1.  See page 218.\n",
      "   - Dasarathy, B.V. (1980) \"Nosing Around the Neighborhood: A New System\n",
      "     Structure and Classification Rule for Recognition in Partially Exposed\n",
      "     Environments\".  IEEE Transactions on Pattern Analysis and Machine\n",
      "     Intelligence, Vol. PAMI-2, No. 1, 67-71.\n",
      "   - Gates, G.W. (1972) \"The Reduced Nearest Neighbor Rule\".  IEEE Transactions\n",
      "     on Information Theory, May 1972, 431-433.\n",
      "   - See also: 1988 MLC Proceedings, 54-64.  Cheeseman et al\"s AUTOCLASS II\n",
      "     conceptual clustering system finds 3 classes in the data.\n",
      "   - Many, many more ...\n"
     ]
    },
    {
     "data": {
      "text/html": [
       "<div>\n",
       "<style scoped>\n",
       "    .dataframe tbody tr th:only-of-type {\n",
       "        vertical-align: middle;\n",
       "    }\n",
       "\n",
       "    .dataframe tbody tr th {\n",
       "        vertical-align: top;\n",
       "    }\n",
       "\n",
       "    .dataframe thead th {\n",
       "        text-align: right;\n",
       "    }\n",
       "</style>\n",
       "<table border=\"1\" class=\"dataframe\">\n",
       "  <thead>\n",
       "    <tr style=\"text-align: right;\">\n",
       "      <th></th>\n",
       "      <th>sepal length (cm)</th>\n",
       "      <th>sepal width (cm)</th>\n",
       "      <th>petal length (cm)</th>\n",
       "      <th>petal width (cm)</th>\n",
       "    </tr>\n",
       "  </thead>\n",
       "  <tbody>\n",
       "    <tr>\n",
       "      <th>0</th>\n",
       "      <td>5.1</td>\n",
       "      <td>3.5</td>\n",
       "      <td>1.4</td>\n",
       "      <td>0.2</td>\n",
       "    </tr>\n",
       "    <tr>\n",
       "      <th>1</th>\n",
       "      <td>4.9</td>\n",
       "      <td>3.0</td>\n",
       "      <td>1.4</td>\n",
       "      <td>0.2</td>\n",
       "    </tr>\n",
       "    <tr>\n",
       "      <th>2</th>\n",
       "      <td>4.7</td>\n",
       "      <td>3.2</td>\n",
       "      <td>1.3</td>\n",
       "      <td>0.2</td>\n",
       "    </tr>\n",
       "    <tr>\n",
       "      <th>3</th>\n",
       "      <td>4.6</td>\n",
       "      <td>3.1</td>\n",
       "      <td>1.5</td>\n",
       "      <td>0.2</td>\n",
       "    </tr>\n",
       "    <tr>\n",
       "      <th>4</th>\n",
       "      <td>5.0</td>\n",
       "      <td>3.6</td>\n",
       "      <td>1.4</td>\n",
       "      <td>0.2</td>\n",
       "    </tr>\n",
       "  </tbody>\n",
       "</table>\n",
       "</div>"
      ],
      "text/plain": [
       "   sepal length (cm)  sepal width (cm)  petal length (cm)  petal width (cm)\n",
       "0                5.1               3.5                1.4               0.2\n",
       "1                4.9               3.0                1.4               0.2\n",
       "2                4.7               3.2                1.3               0.2\n",
       "3                4.6               3.1                1.5               0.2\n",
       "4                5.0               3.6                1.4               0.2"
      ]
     },
     "execution_count": 79,
     "metadata": {},
     "output_type": "execute_result"
    }
   ],
   "source": [
    "# load iris dataset\n",
    "from sklearn.datasets import load_iris\n",
    "\n",
    "iris = load_iris(as_frame=True)\n",
    "\n",
    "\n",
    "print(iris.DESCR)\n",
    "iris.data.head()"
   ]
  },
  {
   "cell_type": "code",
   "execution_count": 80,
   "metadata": {},
   "outputs": [],
   "source": [
    "y = iris.data['petal width (cm)']\n",
    "X = iris.data.drop('petal width (cm)', axis=1)"
   ]
  },
  {
   "attachments": {},
   "cell_type": "markdown",
   "metadata": {},
   "source": [
    "Split the dataset into training and test sets. Use the training set to find the $\\beta$ vector, then use the X_test instances to find y_pred with the $\\beta$ values. Find the mean squared error between the actual and predicted values using the test set."
   ]
  },
  {
   "cell_type": "code",
   "execution_count": 81,
   "metadata": {},
   "outputs": [],
   "source": [
    "from sklearn.model_selection import train_test_split\n",
    "\n",
    "X_train, X_test, y_train, y_test = train_test_split(X, y)\n",
    "\n",
    "\n",
    "\n"
   ]
  },
  {
   "attachments": {},
   "cell_type": "markdown",
   "metadata": {},
   "source": [
    "### Q4. Perform linear regression on the dataset using the normal equation. Report the mean squared error. (Do not use pinv function to find the pseudo-inverse)"
   ]
  },
  {
   "cell_type": "code",
   "execution_count": 82,
   "metadata": {},
   "outputs": [
    {
     "name": "stdout",
     "output_type": "stream",
     "text": [
      "Mean Squared Error is:  0.04667443108631004\n"
     ]
    }
   ],
   "source": [
    "reshaped_matrix = np.insert(X_train, 0, 1, axis=1)\n",
    "reshaped_matrix_1 = np.insert(X_test, 0, 1, axis=1)\n",
    "transpose_X_train = np.transpose(reshaped_matrix)\n",
    "x_product=transpose_X_train@reshaped_matrix\n",
    "inverse_matrix = np.linalg.inv(x_product)\n",
    "beta_last=inverse_matrix@transpose_X_train\n",
    "beta_train=np.dot(beta_last,y_train)\n",
    "y_pred=np.dot(reshaped_matrix_1,beta_train)\n",
    "y_mean=y_test-y_pred\n",
    "squared_matrix = np.square(y_mean)\n",
    "ans=np.sum(squared_matrix)\n",
    "ans2=ans/38\n",
    "print(\"Mean Squared Error is: \",ans2)"
   ]
  },
  {
   "attachments": {},
   "cell_type": "markdown",
   "metadata": {},
   "source": [
    "### Q6. Perform linear regression on the dataset using QR decomposition. Report the mean squared error. (You can use the QR decomposition function from numpy.linalg)"
   ]
  },
  {
   "cell_type": "code",
   "execution_count": 83,
   "metadata": {},
   "outputs": [
    {
     "name": "stdout",
     "output_type": "stream",
     "text": [
      "Mean Squared Error: 0.046674431086307054\n"
     ]
    }
   ],
   "source": [
    "Q, R = np.linalg.qr(reshaped_matrix)\n",
    "beta = np.linalg.solve(R, Q.T.dot(y_train))\n",
    "y_pre = reshaped_matrix_1.dot(beta)\n",
    "mse = np.mean((y_test - y_pre)**2)\n",
    "print(\"Mean Squared Error:\", mse)\n",
    "\n",
    "\n"
   ]
  },
  {
   "attachments": {},
   "cell_type": "markdown",
   "metadata": {},
   "source": [
    "### Q7. Perform linear regression on the dataset using SVD. Report the mean squared error. (You can use the SVD function from numpy.linalg)"
   ]
  },
  {
   "cell_type": "code",
   "execution_count": 84,
   "metadata": {},
   "outputs": [
    {
     "name": "stdout",
     "output_type": "stream",
     "text": [
      "Mean Squared Error: 0.04667443108630701\n"
     ]
    }
   ],
   "source": [
    "U, S, V = np.linalg.svd(reshaped_matrix,full_matrices=False)\n",
    "S=np.diag(S)\n",
    "V=np.transpose(V)\n",
    "S=np.linalg.inv(S)\n",
    "matrix=np.dot(V,S)\n",
    "matrix2=np.transpose(U)\n",
    "matrix3=np.dot(matrix,matrix2)\n",
    "beta_svd=np.dot(matrix3,y_train)\n",
    "y_pr=np.dot(reshaped_matrix_1,beta_svd)\n",
    "ms = np.mean((y_test - y_pr)**2)\n",
    "print(\"Mean Squared Error:\", ms)"
   ]
  },
  {
   "attachments": {},
   "cell_type": "markdown",
   "metadata": {},
   "source": [
    "### Q8. Compare the results of the three methods. Which method is the best? Why?\n"
   ]
  },
  {
   "attachments": {},
   "cell_type": "markdown",
   "metadata": {},
   "source": [
    "SVD is the best method as it is most accurate and gives the least Mean Squared Error .. \n",
    "Though sometimes SVD may not be usefull as it is computationally most expensive..\n",
    "QR Decomposition is not possible anytime because we need R as invertible matrix which need not be there..\n",
    "SVD works fastest on largest largest datasets ..\n",
    "For smaller datasets QR is the fastest but QR may not be able to decompose each matrix thats why SVD is the best method and also SVD is faster than normal method for every types of datasets.."
   ]
  }
 ],
 "metadata": {
  "kernelspec": {
   "display_name": "base",
   "language": "python",
   "name": "python3"
  },
  "language_info": {
   "codemirror_mode": {
    "name": "ipython",
    "version": 3
   },
   "file_extension": ".py",
   "mimetype": "text/x-python",
   "name": "python",
   "nbconvert_exporter": "python",
   "pygments_lexer": "ipython3",
   "version": "3.10.4"
  },
  "orig_nbformat": 4
 },
 "nbformat": 4,
 "nbformat_minor": 2
}
